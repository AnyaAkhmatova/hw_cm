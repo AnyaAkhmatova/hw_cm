{
  "nbformat": 4,
  "nbformat_minor": 0,
  "metadata": {
    "colab": {
      "provenance": []
    },
    "kernelspec": {
      "name": "python3",
      "display_name": "Python 3"
    },
    "language_info": {
      "name": "python"
    }
  },
  "cells": [
    {
      "cell_type": "code",
      "execution_count": null,
      "metadata": {
        "id": "QKRXaoLTgovP"
      },
      "outputs": [],
      "source": [
        "!unzip cm_project_last.zip\n",
        "!cp -r ./cm_project/. .\n",
        "!rm -rf cm_project_last.zip ./cm_project/"
      ]
    },
    {
      "cell_type": "code",
      "source": [
        "!pip install -r requirements.txt\n",
        "!pip install .\n",
        "import wandb\n",
        "wandb.login()"
      ],
      "metadata": {
        "id": "vB8ji3nshhiA"
      },
      "execution_count": null,
      "outputs": []
    },
    {
      "cell_type": "code",
      "source": [
        "!pip install kaggle\n",
        "!mkdir ~/.kaggle\n",
        "!mv ./kaggle.json ~/.kaggle/\n",
        "!chmod 600 ~/.kaggle/kaggle.json\n",
        "!kaggle datasets download -d awsaf49/asvpoof-2019-dataset\n",
        "!rm -r ~/.kaggle\n",
        "!mkdir ./data\n",
        "!unzip -q ./asvpoof-2019-dataset.zip -d ./data/\n",
        "!rm -rf asvpoof-2019-dataset.zip"
      ],
      "metadata": {
        "id": "8KjUCkMKmJEO"
      },
      "execution_count": null,
      "outputs": []
    },
    {
      "cell_type": "code",
      "source": [
        "!gdown https://drive.google.com/uc?id=1Z2XQM0sQqMq4AW9g8Z6aARDBipV6RlH1\n",
        "!unzip final_model.zip\n",
        "!rm -rf final_model.zip"
      ],
      "metadata": {
        "id": "Wwxyh5Xyin51"
      },
      "execution_count": null,
      "outputs": []
    },
    {
      "cell_type": "code",
      "source": [
        "# !python3 train.py -c ./hw_cm/configs/exp1.json"
      ],
      "metadata": {
        "id": "g95rjzrhl7su"
      },
      "execution_count": null,
      "outputs": []
    },
    {
      "cell_type": "code",
      "source": [
        "!python3 test.py -c ./test/config.json -r ./final_model/model_best.pth"
      ],
      "metadata": {
        "colab": {
          "base_uri": "https://localhost:8080/"
        },
        "id": "ZL6nlhm2hwW2",
        "outputId": "f43f79cd-78c6-4502-f9b4-8d99528a2bea"
      },
      "execution_count": 15,
      "outputs": [
        {
          "output_type": "stream",
          "name": "stdout",
          "text": [
            "RawNet2(\n",
            "  (sinc_block): SincBlock(\n",
            "    (sinc_filters): SincConv()\n",
            "    (max_pool): MaxPool1d(kernel_size=3, stride=3, padding=0, dilation=1, ceil_mode=False)\n",
            "    (bn): BatchNorm1d(20, eps=1e-05, momentum=0.1, affine=True, track_running_stats=True)\n",
            "    (leaky_relu): LeakyReLU(negative_slope=0.1)\n",
            "  )\n",
            "  (resblocks1): Sequential(\n",
            "    (0): ResBlock(\n",
            "      (bn1): BatchNorm1d(20, eps=1e-05, momentum=0.1, affine=True, track_running_stats=True)\n",
            "      (leaky_relu): LeakyReLU(negative_slope=0.1)\n",
            "      (conv1): Conv1d(20, 20, kernel_size=(3,), stride=(1,), padding=(1,))\n",
            "      (bn2): BatchNorm1d(20, eps=1e-05, momentum=0.1, affine=True, track_running_stats=True)\n",
            "      (conv2): Conv1d(20, 20, kernel_size=(3,), stride=(1,), padding=(1,))\n",
            "      (max_pool): MaxPool1d(kernel_size=3, stride=3, padding=0, dilation=1, ceil_mode=False)\n",
            "      (fms): FMS(\n",
            "        (fc): Linear(in_features=20, out_features=20, bias=True)\n",
            "        (sigmoid): Sigmoid()\n",
            "      )\n",
            "    )\n",
            "    (1): ResBlock(\n",
            "      (bn1): BatchNorm1d(20, eps=1e-05, momentum=0.1, affine=True, track_running_stats=True)\n",
            "      (leaky_relu): LeakyReLU(negative_slope=0.1)\n",
            "      (conv1): Conv1d(20, 20, kernel_size=(3,), stride=(1,), padding=(1,))\n",
            "      (bn2): BatchNorm1d(20, eps=1e-05, momentum=0.1, affine=True, track_running_stats=True)\n",
            "      (conv2): Conv1d(20, 20, kernel_size=(3,), stride=(1,), padding=(1,))\n",
            "      (max_pool): MaxPool1d(kernel_size=3, stride=3, padding=0, dilation=1, ceil_mode=False)\n",
            "      (fms): FMS(\n",
            "        (fc): Linear(in_features=20, out_features=20, bias=True)\n",
            "        (sigmoid): Sigmoid()\n",
            "      )\n",
            "    )\n",
            "  )\n",
            "  (resblocks2): Sequential(\n",
            "    (0): ResBlock(\n",
            "      (bn1): BatchNorm1d(20, eps=1e-05, momentum=0.1, affine=True, track_running_stats=True)\n",
            "      (leaky_relu): LeakyReLU(negative_slope=0.1)\n",
            "      (conv1): Conv1d(20, 128, kernel_size=(3,), stride=(1,), padding=(1,))\n",
            "      (bn2): BatchNorm1d(128, eps=1e-05, momentum=0.1, affine=True, track_running_stats=True)\n",
            "      (conv2): Conv1d(128, 128, kernel_size=(3,), stride=(1,), padding=(1,))\n",
            "      (down): Conv1d(20, 128, kernel_size=(1,), stride=(1,))\n",
            "      (max_pool): MaxPool1d(kernel_size=3, stride=3, padding=0, dilation=1, ceil_mode=False)\n",
            "      (fms): FMS(\n",
            "        (fc): Linear(in_features=128, out_features=128, bias=True)\n",
            "        (sigmoid): Sigmoid()\n",
            "      )\n",
            "    )\n",
            "    (1): ResBlock(\n",
            "      (bn1): BatchNorm1d(128, eps=1e-05, momentum=0.1, affine=True, track_running_stats=True)\n",
            "      (leaky_relu): LeakyReLU(negative_slope=0.1)\n",
            "      (conv1): Conv1d(128, 128, kernel_size=(3,), stride=(1,), padding=(1,))\n",
            "      (bn2): BatchNorm1d(128, eps=1e-05, momentum=0.1, affine=True, track_running_stats=True)\n",
            "      (conv2): Conv1d(128, 128, kernel_size=(3,), stride=(1,), padding=(1,))\n",
            "      (max_pool): MaxPool1d(kernel_size=3, stride=3, padding=0, dilation=1, ceil_mode=False)\n",
            "      (fms): FMS(\n",
            "        (fc): Linear(in_features=128, out_features=128, bias=True)\n",
            "        (sigmoid): Sigmoid()\n",
            "      )\n",
            "    )\n",
            "    (2): ResBlock(\n",
            "      (bn1): BatchNorm1d(128, eps=1e-05, momentum=0.1, affine=True, track_running_stats=True)\n",
            "      (leaky_relu): LeakyReLU(negative_slope=0.1)\n",
            "      (conv1): Conv1d(128, 128, kernel_size=(3,), stride=(1,), padding=(1,))\n",
            "      (bn2): BatchNorm1d(128, eps=1e-05, momentum=0.1, affine=True, track_running_stats=True)\n",
            "      (conv2): Conv1d(128, 128, kernel_size=(3,), stride=(1,), padding=(1,))\n",
            "      (max_pool): MaxPool1d(kernel_size=3, stride=3, padding=0, dilation=1, ceil_mode=False)\n",
            "      (fms): FMS(\n",
            "        (fc): Linear(in_features=128, out_features=128, bias=True)\n",
            "        (sigmoid): Sigmoid()\n",
            "      )\n",
            "    )\n",
            "    (3): ResBlock(\n",
            "      (bn1): BatchNorm1d(128, eps=1e-05, momentum=0.1, affine=True, track_running_stats=True)\n",
            "      (leaky_relu): LeakyReLU(negative_slope=0.1)\n",
            "      (conv1): Conv1d(128, 128, kernel_size=(3,), stride=(1,), padding=(1,))\n",
            "      (bn2): BatchNorm1d(128, eps=1e-05, momentum=0.1, affine=True, track_running_stats=True)\n",
            "      (conv2): Conv1d(128, 128, kernel_size=(3,), stride=(1,), padding=(1,))\n",
            "      (max_pool): MaxPool1d(kernel_size=3, stride=3, padding=0, dilation=1, ceil_mode=False)\n",
            "      (fms): FMS(\n",
            "        (fc): Linear(in_features=128, out_features=128, bias=True)\n",
            "        (sigmoid): Sigmoid()\n",
            "      )\n",
            "    )\n",
            "  )\n",
            "  (bn): BatchNorm1d(128, eps=1e-05, momentum=0.1, affine=True, track_running_stats=True)\n",
            "  (leaky_relu): LeakyReLU(negative_slope=0.1)\n",
            "  (gru): GRU(128, 512, num_layers=3, batch_first=True, dropout=0.1, bidirectional=True)\n",
            "  (fc1): Linear(in_features=1024, out_features=1024, bias=True)\n",
            "  (fc2): Linear(in_features=1024, out_features=2, bias=True)\n",
            ")\n",
            "Loading checkpoint: ./final_model/model_best.pth ...\n",
            "\u001b[34m\u001b[1mwandb\u001b[0m: Currently logged in as: \u001b[33mcrazy_ocean\u001b[0m (\u001b[33mcrazy_ocean_ahead\u001b[0m). Use \u001b[1m`wandb login --relogin`\u001b[0m to force relogin\n",
            "\u001b[34m\u001b[1mwandb\u001b[0m: Tracking run with wandb version 0.16.1\n",
            "\u001b[34m\u001b[1mwandb\u001b[0m: Run data is saved locally in \u001b[35m\u001b[1m/content/wandb/run-20231216_124715-8fmufkey\u001b[0m\n",
            "\u001b[34m\u001b[1mwandb\u001b[0m: Run \u001b[1m`wandb offline`\u001b[0m to turn off syncing.\n",
            "\u001b[34m\u001b[1mwandb\u001b[0m: Syncing run \u001b[33mtest\u001b[0m\n",
            "\u001b[34m\u001b[1mwandb\u001b[0m: ⭐️ View project at \u001b[34m\u001b[4mhttps://wandb.ai/crazy_ocean_ahead/cm_project\u001b[0m\n",
            "\u001b[34m\u001b[1mwandb\u001b[0m: 🚀 View run at \u001b[34m\u001b[4mhttps://wandb.ai/crazy_ocean_ahead/cm_project/runs/8fmufkey\u001b[0m\n",
            "100% 8/8 [00:02<00:00,  2.72it/s]\n",
            "Table is added to wandb.\n"
          ]
        }
      ]
    },
    {
      "cell_type": "code",
      "source": [],
      "metadata": {
        "id": "kHTcjtWMjOpr"
      },
      "execution_count": null,
      "outputs": []
    }
  ]
}